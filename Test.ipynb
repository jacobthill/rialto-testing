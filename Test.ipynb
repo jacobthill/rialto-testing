{
 "cells": [
  {
   "cell_type": "markdown",
   "id": "06819092",
   "metadata": {},
   "source": [
    "This is a test notebook to assess ReviewNB and nbdev."
   ]
  },
  {
   "cell_type": "code",
   "execution_count": 1,
   "id": "b13c37bd",
   "metadata": {},
   "outputs": [
    {
     "data": {
      "text/plain": [
       "1.3333333333333333"
      ]
     },
     "execution_count": 1,
     "metadata": {},
     "output_type": "execute_result"
    }
   ],
   "source": [
    "4 / 3 "
   ]
  },
  {
   "cell_type": "code",
   "execution_count": null,
   "id": "bacdc2ff",
   "metadata": {},
   "outputs": [],
   "source": []
  }
 ],
 "metadata": {
  "kernelspec": {
   "display_name": "Python 3 (ipykernel)",
   "language": "python",
   "name": "python3"
  },
  "language_info": {
   "codemirror_mode": {
    "name": "ipython",
    "version": 3
   },
   "file_extension": ".py",
   "mimetype": "text/x-python",
   "name": "python",
   "nbconvert_exporter": "python",
   "pygments_lexer": "ipython3",
   "version": "3.10.6"
  }
 },
 "nbformat": 4,
 "nbformat_minor": 5
}
